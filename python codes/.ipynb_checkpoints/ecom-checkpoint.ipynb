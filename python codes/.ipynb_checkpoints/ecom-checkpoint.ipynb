{
 "cells": [
  {
   "cell_type": "code",
   "execution_count": 1,
   "metadata": {},
   "outputs": [],
   "source": [
    "import pandas as pd"
   ]
  },
  {
   "cell_type": "code",
   "execution_count": 2,
   "metadata": {},
   "outputs": [],
   "source": [
    "df = pd.read_csv(\"datasets/ecom.csv\")"
   ]
  },
  {
   "cell_type": "code",
   "execution_count": 3,
   "metadata": {},
   "outputs": [
    {
     "data": {
      "text/html": [
       "<div>\n",
       "<style scoped>\n",
       "    .dataframe tbody tr th:only-of-type {\n",
       "        vertical-align: middle;\n",
       "    }\n",
       "\n",
       "    .dataframe tbody tr th {\n",
       "        vertical-align: top;\n",
       "    }\n",
       "\n",
       "    .dataframe thead th {\n",
       "        text-align: right;\n",
       "    }\n",
       "</style>\n",
       "<table border=\"1\" class=\"dataframe\">\n",
       "  <thead>\n",
       "    <tr style=\"text-align: right;\">\n",
       "      <th></th>\n",
       "      <th>Date</th>\n",
       "      <th>ProductName</th>\n",
       "      <th>ProductCategory</th>\n",
       "      <th>ProductSubCategory</th>\n",
       "      <th>ProductPrice</th>\n",
       "      <th>CustomerName</th>\n",
       "      <th>CustomerEmail</th>\n",
       "      <th>CustomerAddress</th>\n",
       "      <th>CustomerPhone</th>\n",
       "      <th>CustomerSegment</th>\n",
       "      <th>...</th>\n",
       "      <th>SupplierContact</th>\n",
       "      <th>ShipperName</th>\n",
       "      <th>ShippingMethod</th>\n",
       "      <th>QuantitySold</th>\n",
       "      <th>TotalAmount</th>\n",
       "      <th>DiscountAmount</th>\n",
       "      <th>NetAmount</th>\n",
       "      <th>StockReceived</th>\n",
       "      <th>StockSold</th>\n",
       "      <th>StockOnHand</th>\n",
       "    </tr>\n",
       "  </thead>\n",
       "  <tbody>\n",
       "    <tr>\n",
       "      <th>0</th>\n",
       "      <td>2023-09-14</td>\n",
       "      <td>Nathaniel</td>\n",
       "      <td>Electronics</td>\n",
       "      <td>Camera</td>\n",
       "      <td>0.01</td>\n",
       "      <td>Colleen Kelly</td>\n",
       "      <td>maryhurst@example.org</td>\n",
       "      <td>354 Mcdowell Turnpike, Port Charles, CT 95318</td>\n",
       "      <td>908.610.2711x8507</td>\n",
       "      <td>Silver</td>\n",
       "      <td>...</td>\n",
       "      <td>6538306661</td>\n",
       "      <td>and Sons</td>\n",
       "      <td>Ground</td>\n",
       "      <td>49</td>\n",
       "      <td>31965.15</td>\n",
       "      <td>121.07</td>\n",
       "      <td>31844.08</td>\n",
       "      <td>475</td>\n",
       "      <td>127</td>\n",
       "      <td>348</td>\n",
       "    </tr>\n",
       "    <tr>\n",
       "      <th>1</th>\n",
       "      <td>2023-02-11</td>\n",
       "      <td>NonExistentProduct</td>\n",
       "      <td>Electronics</td>\n",
       "      <td>Mobile</td>\n",
       "      <td>847.43</td>\n",
       "      <td>Joel Wright</td>\n",
       "      <td>sandersvictoria@example.org</td>\n",
       "      <td>24740 Fox Villages, New Tracie, MA 53038</td>\n",
       "      <td>+1-408-938-0389x952</td>\n",
       "      <td>Gold</td>\n",
       "      <td>...</td>\n",
       "      <td>NaN</td>\n",
       "      <td>PLC</td>\n",
       "      <td>Air</td>\n",
       "      <td>73</td>\n",
       "      <td>61862.39</td>\n",
       "      <td>91.09</td>\n",
       "      <td>61771.30</td>\n",
       "      <td>487</td>\n",
       "      <td>243</td>\n",
       "      <td>244</td>\n",
       "    </tr>\n",
       "    <tr>\n",
       "      <th>2</th>\n",
       "      <td>2021-11-12</td>\n",
       "      <td>Angela</td>\n",
       "      <td>InvalidCategory</td>\n",
       "      <td>Action Figures</td>\n",
       "      <td>386.57</td>\n",
       "      <td>Thomas Sawyer</td>\n",
       "      <td>ospence@example.net</td>\n",
       "      <td>769 Joe Trail, East Terri, CA 43813</td>\n",
       "      <td>001-929-516-1919x39288</td>\n",
       "      <td>Gold</td>\n",
       "      <td>...</td>\n",
       "      <td>+1-588-750-7646</td>\n",
       "      <td>PLC</td>\n",
       "      <td>Sea</td>\n",
       "      <td>89</td>\n",
       "      <td>34404.73</td>\n",
       "      <td>10.56</td>\n",
       "      <td>34394.17</td>\n",
       "      <td>341</td>\n",
       "      <td>188</td>\n",
       "      <td>153</td>\n",
       "    </tr>\n",
       "    <tr>\n",
       "      <th>3</th>\n",
       "      <td>11-15-2021</td>\n",
       "      <td>Amy</td>\n",
       "      <td>Home &amp; Garden</td>\n",
       "      <td>Decor</td>\n",
       "      <td>364.01</td>\n",
       "      <td>Tyler Gardner</td>\n",
       "      <td>christopherjohnson@example.com</td>\n",
       "      <td>27783 Olivia Centers, Williamsmouth, AL 09809</td>\n",
       "      <td>8907712983</td>\n",
       "      <td>Gold</td>\n",
       "      <td>...</td>\n",
       "      <td>805-650-6257x5876</td>\n",
       "      <td>LLC</td>\n",
       "      <td>Air</td>\n",
       "      <td>3</td>\n",
       "      <td>1092.03</td>\n",
       "      <td>69.06</td>\n",
       "      <td>1022.97</td>\n",
       "      <td>500</td>\n",
       "      <td>124</td>\n",
       "      <td>376</td>\n",
       "    </tr>\n",
       "    <tr>\n",
       "      <th>4</th>\n",
       "      <td>2023-04-22</td>\n",
       "      <td>Nathaniel</td>\n",
       "      <td>Electronics</td>\n",
       "      <td>Camera</td>\n",
       "      <td>652.35</td>\n",
       "      <td>Meagan Peterson</td>\n",
       "      <td>epowell@example.net</td>\n",
       "      <td>25357 Blackwell Locks, Andreabury, MH 27857</td>\n",
       "      <td>9999921886</td>\n",
       "      <td>Gold</td>\n",
       "      <td>...</td>\n",
       "      <td>6538306661</td>\n",
       "      <td>Ltd</td>\n",
       "      <td>Sea</td>\n",
       "      <td>75</td>\n",
       "      <td>48926.25</td>\n",
       "      <td>137.17</td>\n",
       "      <td>48789.08</td>\n",
       "      <td>429</td>\n",
       "      <td>351</td>\n",
       "      <td>78</td>\n",
       "    </tr>\n",
       "  </tbody>\n",
       "</table>\n",
       "<p>5 rows × 22 columns</p>\n",
       "</div>"
      ],
      "text/plain": [
       "         Date         ProductName  ProductCategory ProductSubCategory   \n",
       "0  2023-09-14           Nathaniel      Electronics             Camera  \\\n",
       "1  2023-02-11  NonExistentProduct      Electronics             Mobile   \n",
       "2  2021-11-12              Angela  InvalidCategory     Action Figures   \n",
       "3  11-15-2021                 Amy    Home & Garden              Decor   \n",
       "4  2023-04-22           Nathaniel      Electronics             Camera   \n",
       "\n",
       "  ProductPrice     CustomerName                   CustomerEmail   \n",
       "0         0.01    Colleen Kelly           maryhurst@example.org  \\\n",
       "1       847.43      Joel Wright     sandersvictoria@example.org   \n",
       "2       386.57    Thomas Sawyer             ospence@example.net   \n",
       "3       364.01    Tyler Gardner  christopherjohnson@example.com   \n",
       "4       652.35  Meagan Peterson             epowell@example.net   \n",
       "\n",
       "                                 CustomerAddress           CustomerPhone   \n",
       "0  354 Mcdowell Turnpike, Port Charles, CT 95318       908.610.2711x8507  \\\n",
       "1       24740 Fox Villages, New Tracie, MA 53038     +1-408-938-0389x952   \n",
       "2            769 Joe Trail, East Terri, CA 43813  001-929-516-1919x39288   \n",
       "3  27783 Olivia Centers, Williamsmouth, AL 09809              8907712983   \n",
       "4    25357 Blackwell Locks, Andreabury, MH 27857              9999921886   \n",
       "\n",
       "  CustomerSegment  ...    SupplierContact ShipperName ShippingMethod   \n",
       "0          Silver  ...         6538306661    and Sons         Ground  \\\n",
       "1            Gold  ...                NaN         PLC            Air   \n",
       "2            Gold  ...    +1-588-750-7646         PLC            Sea   \n",
       "3            Gold  ...  805-650-6257x5876         LLC            Air   \n",
       "4            Gold  ...         6538306661         Ltd            Sea   \n",
       "\n",
       "  QuantitySold TotalAmount  DiscountAmount  NetAmount  StockReceived   \n",
       "0           49    31965.15          121.07   31844.08            475  \\\n",
       "1           73    61862.39           91.09   61771.30            487   \n",
       "2           89    34404.73           10.56   34394.17            341   \n",
       "3            3     1092.03           69.06    1022.97            500   \n",
       "4           75    48926.25          137.17   48789.08            429   \n",
       "\n",
       "   StockSold  StockOnHand  \n",
       "0        127          348  \n",
       "1        243          244  \n",
       "2        188          153  \n",
       "3        124          376  \n",
       "4        351           78  \n",
       "\n",
       "[5 rows x 22 columns]"
      ]
     },
     "execution_count": 3,
     "metadata": {},
     "output_type": "execute_result"
    }
   ],
   "source": [
    "df.head()"
   ]
  },
  {
   "cell_type": "code",
   "execution_count": 4,
   "metadata": {},
   "outputs": [
    {
     "data": {
      "text/html": [
       "<div>\n",
       "<style scoped>\n",
       "    .dataframe tbody tr th:only-of-type {\n",
       "        vertical-align: middle;\n",
       "    }\n",
       "\n",
       "    .dataframe tbody tr th {\n",
       "        vertical-align: top;\n",
       "    }\n",
       "\n",
       "    .dataframe thead th {\n",
       "        text-align: right;\n",
       "    }\n",
       "</style>\n",
       "<table border=\"1\" class=\"dataframe\">\n",
       "  <thead>\n",
       "    <tr style=\"text-align: right;\">\n",
       "      <th></th>\n",
       "      <th>Date</th>\n",
       "      <th>ProductName</th>\n",
       "      <th>ProductCategory</th>\n",
       "      <th>ProductSubCategory</th>\n",
       "      <th>ProductPrice</th>\n",
       "      <th>CustomerName</th>\n",
       "      <th>CustomerEmail</th>\n",
       "      <th>CustomerAddress</th>\n",
       "      <th>CustomerPhone</th>\n",
       "      <th>CustomerSegment</th>\n",
       "      <th>...</th>\n",
       "      <th>SupplierContact</th>\n",
       "      <th>ShipperName</th>\n",
       "      <th>ShippingMethod</th>\n",
       "      <th>QuantitySold</th>\n",
       "      <th>TotalAmount</th>\n",
       "      <th>DiscountAmount</th>\n",
       "      <th>NetAmount</th>\n",
       "      <th>StockReceived</th>\n",
       "      <th>StockSold</th>\n",
       "      <th>StockOnHand</th>\n",
       "    </tr>\n",
       "  </thead>\n",
       "  <tbody>\n",
       "    <tr>\n",
       "      <th>5005</th>\n",
       "      <td>2023-08-24</td>\n",
       "      <td>Angela</td>\n",
       "      <td>Toys</td>\n",
       "      <td>Action Figures</td>\n",
       "      <td>386.57</td>\n",
       "      <td>Bradley Smith</td>\n",
       "      <td>garciashawn@example.com</td>\n",
       "      <td>Unit 6079 Box 2184, DPO AP 21061</td>\n",
       "      <td>(449)651-5198x65597</td>\n",
       "      <td>Gold</td>\n",
       "      <td>...</td>\n",
       "      <td>001-324-909-1637x2831</td>\n",
       "      <td>LLC</td>\n",
       "      <td>Ground</td>\n",
       "      <td>87</td>\n",
       "      <td>33631.59</td>\n",
       "      <td>88.77</td>\n",
       "      <td>33542.82</td>\n",
       "      <td>401</td>\n",
       "      <td>359</td>\n",
       "      <td>42</td>\n",
       "    </tr>\n",
       "    <tr>\n",
       "      <th>5006</th>\n",
       "      <td>2023-08-24</td>\n",
       "      <td>Angela</td>\n",
       "      <td>Toys</td>\n",
       "      <td>Action Figures</td>\n",
       "      <td>386.57</td>\n",
       "      <td>Bradley Smith</td>\n",
       "      <td>garciashawn@example.com</td>\n",
       "      <td>Unit 6079 Box 2184, DPO AP 21061</td>\n",
       "      <td>(449)651-5198x65597</td>\n",
       "      <td>Gold</td>\n",
       "      <td>...</td>\n",
       "      <td>001-324-909-1637x2831</td>\n",
       "      <td>LLC</td>\n",
       "      <td>Ground</td>\n",
       "      <td>87</td>\n",
       "      <td>33631.59</td>\n",
       "      <td>88.77</td>\n",
       "      <td>33542.82</td>\n",
       "      <td>401</td>\n",
       "      <td>359</td>\n",
       "      <td>42</td>\n",
       "    </tr>\n",
       "    <tr>\n",
       "      <th>5007</th>\n",
       "      <td>2023-08-24</td>\n",
       "      <td>Angela</td>\n",
       "      <td>Toys</td>\n",
       "      <td>Action Figures</td>\n",
       "      <td>386.57</td>\n",
       "      <td>Bradley Smith</td>\n",
       "      <td>garciashawn@example.com</td>\n",
       "      <td>Unit 6079 Box 2184, DPO AP 21061</td>\n",
       "      <td>(449)651-5198x65597</td>\n",
       "      <td>Gold</td>\n",
       "      <td>...</td>\n",
       "      <td>001-324-909-1637x2831</td>\n",
       "      <td>LLC</td>\n",
       "      <td>Ground</td>\n",
       "      <td>87</td>\n",
       "      <td>33631.59</td>\n",
       "      <td>88.77</td>\n",
       "      <td>33542.82</td>\n",
       "      <td>401</td>\n",
       "      <td>359</td>\n",
       "      <td>42</td>\n",
       "    </tr>\n",
       "    <tr>\n",
       "      <th>5008</th>\n",
       "      <td>2023-08-24</td>\n",
       "      <td>Angela</td>\n",
       "      <td>Toys</td>\n",
       "      <td>Action Figures</td>\n",
       "      <td>386.57</td>\n",
       "      <td>Bradley Smith</td>\n",
       "      <td>garciashawn@example.com</td>\n",
       "      <td>Unit 6079 Box 2184, DPO AP 21061</td>\n",
       "      <td>(449)651-5198x65597</td>\n",
       "      <td>Gold</td>\n",
       "      <td>...</td>\n",
       "      <td>001-324-909-1637x2831</td>\n",
       "      <td>LLC</td>\n",
       "      <td>Ground</td>\n",
       "      <td>87</td>\n",
       "      <td>33631.59</td>\n",
       "      <td>88.77</td>\n",
       "      <td>33542.82</td>\n",
       "      <td>401</td>\n",
       "      <td>359</td>\n",
       "      <td>42</td>\n",
       "    </tr>\n",
       "    <tr>\n",
       "      <th>5009</th>\n",
       "      <td>2023-08-24</td>\n",
       "      <td>Angela</td>\n",
       "      <td>Toys</td>\n",
       "      <td>Action Figures</td>\n",
       "      <td>386.57</td>\n",
       "      <td>Bradley Smith</td>\n",
       "      <td>garciashawn@example.com</td>\n",
       "      <td>Unit 6079 Box 2184, DPO AP 21061</td>\n",
       "      <td>(449)651-5198x65597</td>\n",
       "      <td>Gold</td>\n",
       "      <td>...</td>\n",
       "      <td>001-324-909-1637x2831</td>\n",
       "      <td>LLC</td>\n",
       "      <td>Ground</td>\n",
       "      <td>87</td>\n",
       "      <td>33631.59</td>\n",
       "      <td>88.77</td>\n",
       "      <td>33542.82</td>\n",
       "      <td>401</td>\n",
       "      <td>359</td>\n",
       "      <td>42</td>\n",
       "    </tr>\n",
       "  </tbody>\n",
       "</table>\n",
       "<p>5 rows × 22 columns</p>\n",
       "</div>"
      ],
      "text/plain": [
       "            Date ProductName ProductCategory ProductSubCategory ProductPrice   \n",
       "5005  2023-08-24      Angela            Toys     Action Figures       386.57  \\\n",
       "5006  2023-08-24      Angela            Toys     Action Figures       386.57   \n",
       "5007  2023-08-24      Angela            Toys     Action Figures       386.57   \n",
       "5008  2023-08-24      Angela            Toys     Action Figures       386.57   \n",
       "5009  2023-08-24      Angela            Toys     Action Figures       386.57   \n",
       "\n",
       "       CustomerName            CustomerEmail   \n",
       "5005  Bradley Smith  garciashawn@example.com  \\\n",
       "5006  Bradley Smith  garciashawn@example.com   \n",
       "5007  Bradley Smith  garciashawn@example.com   \n",
       "5008  Bradley Smith  garciashawn@example.com   \n",
       "5009  Bradley Smith  garciashawn@example.com   \n",
       "\n",
       "                       CustomerAddress        CustomerPhone CustomerSegment   \n",
       "5005  Unit 6079 Box 2184, DPO AP 21061  (449)651-5198x65597            Gold  \\\n",
       "5006  Unit 6079 Box 2184, DPO AP 21061  (449)651-5198x65597            Gold   \n",
       "5007  Unit 6079 Box 2184, DPO AP 21061  (449)651-5198x65597            Gold   \n",
       "5008  Unit 6079 Box 2184, DPO AP 21061  (449)651-5198x65597            Gold   \n",
       "5009  Unit 6079 Box 2184, DPO AP 21061  (449)651-5198x65597            Gold   \n",
       "\n",
       "      ...        SupplierContact ShipperName ShippingMethod QuantitySold   \n",
       "5005  ...  001-324-909-1637x2831         LLC         Ground           87  \\\n",
       "5006  ...  001-324-909-1637x2831         LLC         Ground           87   \n",
       "5007  ...  001-324-909-1637x2831         LLC         Ground           87   \n",
       "5008  ...  001-324-909-1637x2831         LLC         Ground           87   \n",
       "5009  ...  001-324-909-1637x2831         LLC         Ground           87   \n",
       "\n",
       "     TotalAmount  DiscountAmount  NetAmount  StockReceived  StockSold   \n",
       "5005    33631.59           88.77   33542.82            401        359  \\\n",
       "5006    33631.59           88.77   33542.82            401        359   \n",
       "5007    33631.59           88.77   33542.82            401        359   \n",
       "5008    33631.59           88.77   33542.82            401        359   \n",
       "5009    33631.59           88.77   33542.82            401        359   \n",
       "\n",
       "      StockOnHand  \n",
       "5005           42  \n",
       "5006           42  \n",
       "5007           42  \n",
       "5008           42  \n",
       "5009           42  \n",
       "\n",
       "[5 rows x 22 columns]"
      ]
     },
     "execution_count": 4,
     "metadata": {},
     "output_type": "execute_result"
    }
   ],
   "source": [
    "df.tail()"
   ]
  },
  {
   "cell_type": "code",
   "execution_count": 5,
   "metadata": {},
   "outputs": [
    {
     "name": "stdout",
     "output_type": "stream",
     "text": [
      "<class 'pandas.core.frame.DataFrame'>\n",
      "RangeIndex: 5010 entries, 0 to 5009\n",
      "Data columns (total 22 columns):\n",
      " #   Column              Non-Null Count  Dtype  \n",
      "---  ------              --------------  -----  \n",
      " 0   Date                5010 non-null   object \n",
      " 1   ProductName         5010 non-null   object \n",
      " 2   ProductCategory     5010 non-null   object \n",
      " 3   ProductSubCategory  5010 non-null   object \n",
      " 4   ProductPrice        5010 non-null   object \n",
      " 5   CustomerName        5010 non-null   object \n",
      " 6   CustomerEmail       4503 non-null   object \n",
      " 7   CustomerAddress     5010 non-null   object \n",
      " 8   CustomerPhone       5010 non-null   object \n",
      " 9   CustomerSegment     5010 non-null   object \n",
      " 10  SupplierName        5010 non-null   object \n",
      " 11  SupplierLocation    5010 non-null   object \n",
      " 12  SupplierContact     4526 non-null   object \n",
      " 13  ShipperName         5010 non-null   object \n",
      " 14  ShippingMethod      5010 non-null   object \n",
      " 15  QuantitySold        5010 non-null   int64  \n",
      " 16  TotalAmount         5010 non-null   float64\n",
      " 17  DiscountAmount      5010 non-null   float64\n",
      " 18  NetAmount           5010 non-null   float64\n",
      " 19  StockReceived       5010 non-null   int64  \n",
      " 20  StockSold           5010 non-null   int64  \n",
      " 21  StockOnHand         5010 non-null   int64  \n",
      "dtypes: float64(3), int64(4), object(15)\n",
      "memory usage: 861.2+ KB\n"
     ]
    }
   ],
   "source": [
    "df.info()"
   ]
  },
  {
   "cell_type": "markdown",
   "metadata": {},
   "source": [
    "diplucate columns\n",
    "Productprice : type float\n",
    "date : type date\n",
    "CustomerEmail &\tCustomerAddress & CustomerPhone: crypte\n",
    "CustomerEmail null : no mail\n",
    "SupplierContact : no contact\n",
    "      "
   ]
  },
  {
   "cell_type": "code",
   "execution_count": 6,
   "metadata": {},
   "outputs": [
    {
     "data": {
      "text/html": [
       "<div>\n",
       "<style scoped>\n",
       "    .dataframe tbody tr th:only-of-type {\n",
       "        vertical-align: middle;\n",
       "    }\n",
       "\n",
       "    .dataframe tbody tr th {\n",
       "        vertical-align: top;\n",
       "    }\n",
       "\n",
       "    .dataframe thead th {\n",
       "        text-align: right;\n",
       "    }\n",
       "</style>\n",
       "<table border=\"1\" class=\"dataframe\">\n",
       "  <thead>\n",
       "    <tr style=\"text-align: right;\">\n",
       "      <th></th>\n",
       "      <th>QuantitySold</th>\n",
       "      <th>TotalAmount</th>\n",
       "      <th>DiscountAmount</th>\n",
       "      <th>NetAmount</th>\n",
       "      <th>StockReceived</th>\n",
       "      <th>StockSold</th>\n",
       "      <th>StockOnHand</th>\n",
       "    </tr>\n",
       "  </thead>\n",
       "  <tbody>\n",
       "    <tr>\n",
       "      <th>count</th>\n",
       "      <td>5010.000000</td>\n",
       "      <td>5010.000000</td>\n",
       "      <td>5010.000000</td>\n",
       "      <td>5010.000000</td>\n",
       "      <td>5010.000000</td>\n",
       "      <td>5010.000000</td>\n",
       "      <td>5010.000000</td>\n",
       "    </tr>\n",
       "    <tr>\n",
       "      <th>mean</th>\n",
       "      <td>50.827146</td>\n",
       "      <td>28851.529621</td>\n",
       "      <td>86.425236</td>\n",
       "      <td>28765.104385</td>\n",
       "      <td>277.074052</td>\n",
       "      <td>139.116966</td>\n",
       "      <td>137.957086</td>\n",
       "    </tr>\n",
       "    <tr>\n",
       "      <th>std</th>\n",
       "      <td>28.523303</td>\n",
       "      <td>23139.578225</td>\n",
       "      <td>70.574899</td>\n",
       "      <td>23112.635714</td>\n",
       "      <td>130.330697</td>\n",
       "      <td>111.016370</td>\n",
       "      <td>110.360693</td>\n",
       "    </tr>\n",
       "    <tr>\n",
       "      <th>min</th>\n",
       "      <td>1.000000</td>\n",
       "      <td>46.230000</td>\n",
       "      <td>0.010000</td>\n",
       "      <td>33.600000</td>\n",
       "      <td>50.000000</td>\n",
       "      <td>1.000000</td>\n",
       "      <td>0.000000</td>\n",
       "    </tr>\n",
       "    <tr>\n",
       "      <th>25%</th>\n",
       "      <td>26.000000</td>\n",
       "      <td>8864.130000</td>\n",
       "      <td>25.685000</td>\n",
       "      <td>8774.435000</td>\n",
       "      <td>164.000000</td>\n",
       "      <td>49.000000</td>\n",
       "      <td>49.000000</td>\n",
       "    </tr>\n",
       "    <tr>\n",
       "      <th>50%</th>\n",
       "      <td>50.000000</td>\n",
       "      <td>23546.135000</td>\n",
       "      <td>69.345000</td>\n",
       "      <td>23424.750000</td>\n",
       "      <td>279.000000</td>\n",
       "      <td>109.000000</td>\n",
       "      <td>107.000000</td>\n",
       "    </tr>\n",
       "    <tr>\n",
       "      <th>75%</th>\n",
       "      <td>76.000000</td>\n",
       "      <td>42985.950000</td>\n",
       "      <td>129.277500</td>\n",
       "      <td>42886.600000</td>\n",
       "      <td>393.000000</td>\n",
       "      <td>209.000000</td>\n",
       "      <td>206.000000</td>\n",
       "    </tr>\n",
       "    <tr>\n",
       "      <th>max</th>\n",
       "      <td>100.000000</td>\n",
       "      <td>99513.000000</td>\n",
       "      <td>298.110000</td>\n",
       "      <td>99276.950000</td>\n",
       "      <td>500.000000</td>\n",
       "      <td>498.000000</td>\n",
       "      <td>490.000000</td>\n",
       "    </tr>\n",
       "  </tbody>\n",
       "</table>\n",
       "</div>"
      ],
      "text/plain": [
       "       QuantitySold   TotalAmount  DiscountAmount     NetAmount   \n",
       "count   5010.000000   5010.000000     5010.000000   5010.000000  \\\n",
       "mean      50.827146  28851.529621       86.425236  28765.104385   \n",
       "std       28.523303  23139.578225       70.574899  23112.635714   \n",
       "min        1.000000     46.230000        0.010000     33.600000   \n",
       "25%       26.000000   8864.130000       25.685000   8774.435000   \n",
       "50%       50.000000  23546.135000       69.345000  23424.750000   \n",
       "75%       76.000000  42985.950000      129.277500  42886.600000   \n",
       "max      100.000000  99513.000000      298.110000  99276.950000   \n",
       "\n",
       "       StockReceived    StockSold  StockOnHand  \n",
       "count    5010.000000  5010.000000  5010.000000  \n",
       "mean      277.074052   139.116966   137.957086  \n",
       "std       130.330697   111.016370   110.360693  \n",
       "min        50.000000     1.000000     0.000000  \n",
       "25%       164.000000    49.000000    49.000000  \n",
       "50%       279.000000   109.000000   107.000000  \n",
       "75%       393.000000   209.000000   206.000000  \n",
       "max       500.000000   498.000000   490.000000  "
      ]
     },
     "execution_count": 6,
     "metadata": {},
     "output_type": "execute_result"
    }
   ],
   "source": [
    "df.describe()"
   ]
  },
  {
   "cell_type": "code",
   "execution_count": 7,
   "metadata": {},
   "outputs": [
    {
     "data": {
      "text/plain": [
       "Index(['Date', 'ProductName', 'ProductCategory', 'ProductSubCategory',\n",
       "       'ProductPrice', 'CustomerName', 'CustomerEmail', 'CustomerAddress',\n",
       "       'CustomerPhone', 'CustomerSegment', 'SupplierName', 'SupplierLocation',\n",
       "       'SupplierContact', 'ShipperName', 'ShippingMethod', 'QuantitySold',\n",
       "       'TotalAmount', 'DiscountAmount', 'NetAmount', 'StockReceived',\n",
       "       'StockSold', 'StockOnHand'],\n",
       "      dtype='object')"
      ]
     },
     "execution_count": 7,
     "metadata": {},
     "output_type": "execute_result"
    }
   ],
   "source": [
    "df.columns"
   ]
  },
  {
   "cell_type": "code",
   "execution_count": 8,
   "metadata": {},
   "outputs": [
    {
     "data": {
      "text/plain": [
       "Date                    0\n",
       "ProductName             0\n",
       "ProductCategory         0\n",
       "ProductSubCategory      0\n",
       "ProductPrice            0\n",
       "CustomerName            0\n",
       "CustomerEmail         507\n",
       "CustomerAddress         0\n",
       "CustomerPhone           0\n",
       "CustomerSegment         0\n",
       "SupplierName            0\n",
       "SupplierLocation        0\n",
       "SupplierContact       484\n",
       "ShipperName             0\n",
       "ShippingMethod          0\n",
       "QuantitySold            0\n",
       "TotalAmount             0\n",
       "DiscountAmount          0\n",
       "NetAmount               0\n",
       "StockReceived           0\n",
       "StockSold               0\n",
       "StockOnHand             0\n",
       "dtype: int64"
      ]
     },
     "execution_count": 8,
     "metadata": {},
     "output_type": "execute_result"
    }
   ],
   "source": [
    "df.isnull().sum()"
   ]
  },
  {
   "cell_type": "markdown",
   "metadata": {},
   "source": [
    "# visualisation"
   ]
  },
  {
   "cell_type": "markdown",
   "metadata": {},
   "source": [
    "### 1 ere page : description \n"
   ]
  },
  {
   "cell_type": "markdown",
   "metadata": {},
   "source": [
    "mesure, filters by page"
   ]
  },
  {
   "cell_type": "markdown",
   "metadata": {},
   "source": [
    "### 2 eme page : sales\n"
   ]
  },
  {
   "cell_type": "markdown",
   "metadata": {},
   "source": [
    "mersure, filters, map"
   ]
  },
  {
   "cell_type": "markdown",
   "metadata": {},
   "source": [
    "### 3 eme page : inventory"
   ]
  },
  {
   "cell_type": "markdown",
   "metadata": {},
   "source": [
    "mersure, filters, map"
   ]
  },
  {
   "cell_type": "markdown",
   "metadata": {},
   "source": [
    "### 4 eme page : desisions"
   ]
  },
  {
   "cell_type": "markdown",
   "metadata": {},
   "source": [
    "desisions et conclusion"
   ]
  },
  {
   "cell_type": "markdown",
   "metadata": {},
   "source": [
    "ETL - modelisation - power bi - gantt - presentation plan >>>>>> first 2 days"
   ]
  },
  {
   "cell_type": "code",
   "execution_count": 10,
   "metadata": {},
   "outputs": [
    {
     "data": {
      "text/plain": [
       "array(['Nathaniel', 'NonExistentProduct', 'Angela', 'Amy', 'Justin',\n",
       "       'Shannon', 'Martha', 'Elizabeth', 'Jamie', 'Robert', 'Shawn',\n",
       "       'Anthony', 'Pamela', 'Fred', 'Wanda', 'Cynthia', 'Marvin', 'Katie',\n",
       "       'Tammy', 'Michael', 'Kristine'], dtype=object)"
      ]
     },
     "execution_count": 10,
     "metadata": {},
     "output_type": "execute_result"
    }
   ],
   "source": [
    "df[\"ProductName\"].unique()"
   ]
  },
  {
   "cell_type": "code",
   "execution_count": 11,
   "metadata": {},
   "outputs": [
    {
     "data": {
      "text/plain": [
       "array(['Electronics', 'InvalidCategory', 'Home & Garden', 'Books',\n",
       "       'Clothing', 'Toys'], dtype=object)"
      ]
     },
     "execution_count": 11,
     "metadata": {},
     "output_type": "execute_result"
    }
   ],
   "source": [
    "df[\"ProductCategory\"].unique()"
   ]
  },
  {
   "cell_type": "code",
   "execution_count": 12,
   "metadata": {},
   "outputs": [
    {
     "data": {
      "text/plain": [
       "array(['Camera', 'Mobile', 'Action Figures', 'Decor', 'Headphones',\n",
       "       'Gardening Tools', 'Fiction', 'Shirt', 'Academic', 'Educational',\n",
       "       'Non-fiction', 'Dolls', 'Furniture'], dtype=object)"
      ]
     },
     "execution_count": 12,
     "metadata": {},
     "output_type": "execute_result"
    }
   ],
   "source": [
    "df[\"ProductSubCategory\"].unique()"
   ]
  },
  {
   "cell_type": "markdown",
   "metadata": {},
   "source": [
    "Nathaniel   = Electronics\n",
    "Angela  = Toys\n",
    "Amy  = Home & Garden\n",
    "Justin = Electronics\n",
    "Shannon = Home & Garden\n",
    "Martha  = Books\n",
    "Elizabeth  = Clothing \n",
    "Jamie  = Books\n",
    "Robert = Electronics\n",
    "Shawn = Electronics\n",
    "Anthony = Books\n",
    "Pamela = Electronics\n",
    "Fred = Books\n",
    "Wanda = Toys\n",
    "Cynthia = Electronics\n",
    "Marvin  = Clothing\n",
    "Katie  = Books\n",
    "Tammy = Home & Garden\n",
    "Michael = Toys\n",
    "Kristine = Electronics"
   ]
  },
  {
   "cell_type": "markdown",
   "metadata": {},
   "source": []
  },
  {
   "cell_type": "code",
   "execution_count": 13,
   "metadata": {},
   "outputs": [
    {
     "data": {
      "text/plain": [
       "array(['and Sons', 'PLC', 'LLC', 'Ltd', 'Inc', 'Group'], dtype=object)"
      ]
     },
     "execution_count": 13,
     "metadata": {},
     "output_type": "execute_result"
    }
   ],
   "source": [
    "df[\"ShipperName\"].unique()"
   ]
  },
  {
   "cell_type": "code",
   "execution_count": null,
   "metadata": {},
   "outputs": [],
   "source": []
  }
 ],
 "metadata": {
  "kernelspec": {
   "display_name": "Python 3 (ipykernel)",
   "language": "python",
   "name": "python3"
  },
  "language_info": {
   "codemirror_mode": {
    "name": "ipython",
    "version": 3
   },
   "file_extension": ".py",
   "mimetype": "text/x-python",
   "name": "python",
   "nbconvert_exporter": "python",
   "pygments_lexer": "ipython3",
   "version": "3.10.10"
  },
  "vp": {
   "vp_config_version": "1.0.0",
   "vp_menu_width": 273,
   "vp_note_display": false,
   "vp_note_width": 0,
   "vp_position": {
    "width": 278
   },
   "vp_section_display": false,
   "vp_signature": "VisualPython"
  }
 },
 "nbformat": 4,
 "nbformat_minor": 2
}
